{
 "cells": [
  {
   "cell_type": "code",
   "execution_count": 81,
   "metadata": {},
   "outputs": [],
   "source": [
    "import numpy as np\n",
    "from random import randint\n",
    "from sklearn.utils import shuffle\n",
    "from sklearn.preprocessing import MinMaxScaler\n",
    "from sklearn.metrics import plot_confusion_matrix"
   ]
  },
  {
   "cell_type": "code",
   "execution_count": 4,
   "metadata": {},
   "outputs": [],
   "source": [
    "train_labels=[]\n",
    "train_samples=[]"
   ]
  },
  {
   "cell_type": "code",
   "execution_count": 6,
   "metadata": {},
   "outputs": [],
   "source": [
    "for _ in range(50):\n",
    "    random_younger=randint(13,64)\n",
    "    train_samples.append(random_younger)\n",
    "    train_labels.append(1)\n",
    "    \n",
    "    random_older=randint(65,100)\n",
    "    train_samples.append(random_older)\n",
    "    train_labels.append(0)\n",
    "for _ in range(1000):\n",
    "    random_younger=randint(13,64)\n",
    "    train_samples.append(random_younger)\n",
    "    train_labels.append(0)\n",
    "    \n",
    "    random_older=randint(65,100)\n",
    "    train_samples.append(random_older)\n",
    "    train_labels.append(1)"
   ]
  },
  {
   "cell_type": "code",
   "execution_count": 10,
   "metadata": {},
   "outputs": [],
   "source": [
    "train_sample_np=np.array(train_samples)\n",
    "train_labels_np=np.array(train_labels)\n",
    "train_samples, train_label=shuffle(train_sample_np,train_labels_np)"
   ]
  },
  {
   "cell_type": "code",
   "execution_count": 34,
   "metadata": {},
   "outputs": [],
   "source": [
    "scaler=MinMaxScaler(feature_range=(0,1))\n",
    "scaled_train_sample=scaler.fit_transform(train_samples.reshape(-1,1))"
   ]
  },
  {
   "cell_type": "code",
   "execution_count": 35,
   "metadata": {},
   "outputs": [],
   "source": [
    "import tensorflow as tf\n",
    "from tensorflow import keras\n",
    "from tensorflow.keras.models import Sequential\n",
    "from tensorflow.keras.layers import Activation,Dense\n",
    "from tensorflow.keras.optimizers import Adam\n",
    "from tensorflow.keras.metrics import categorical_crossentropy"
   ]
  },
  {
   "cell_type": "code",
   "execution_count": 36,
   "metadata": {},
   "outputs": [
    {
     "name": "stdout",
     "output_type": "stream",
     "text": [
      "Model: \"sequential_1\"\n",
      "_________________________________________________________________\n",
      "Layer (type)                 Output Shape              Param #   \n",
      "=================================================================\n",
      "dense_3 (Dense)              (None, 16)                32        \n",
      "_________________________________________________________________\n",
      "dense_4 (Dense)              (None, 32)                544       \n",
      "_________________________________________________________________\n",
      "dense_5 (Dense)              (None, 2)                 66        \n",
      "=================================================================\n",
      "Total params: 642\n",
      "Trainable params: 642\n",
      "Non-trainable params: 0\n",
      "_________________________________________________________________\n"
     ]
    }
   ],
   "source": [
    "model=Sequential([\n",
    "    Dense(units=16,input_shape=(1,),activation='relu'),\n",
    "    Dense(units=32,activation='relu'),\n",
    "    Dense(units=2,activation='softmax')\n",
    "    \n",
    "])\n",
    "model.summary()"
   ]
  },
  {
   "cell_type": "code",
   "execution_count": 37,
   "metadata": {},
   "outputs": [],
   "source": [
    "model.compile(optimizer=Adam(learning_rate=0.001),loss='sparse_categorical_crossentropy',metrics=['accuracy'])"
   ]
  },
  {
   "cell_type": "code",
   "execution_count": 39,
   "metadata": {},
   "outputs": [
    {
     "name": "stdout",
     "output_type": "stream",
     "text": [
      "Epoch 1/30\n",
      "189/189 - 0s - loss: 0.2209 - accuracy: 0.9444 - val_loss: 0.1757 - val_accuracy: 0.9667\n",
      "Epoch 2/30\n",
      "189/189 - 0s - loss: 0.2203 - accuracy: 0.9487 - val_loss: 0.1731 - val_accuracy: 0.9571\n",
      "Epoch 3/30\n",
      "189/189 - 0s - loss: 0.2216 - accuracy: 0.9434 - val_loss: 0.1737 - val_accuracy: 0.9571\n",
      "Epoch 4/30\n",
      "189/189 - 0s - loss: 0.2183 - accuracy: 0.9460 - val_loss: 0.1768 - val_accuracy: 0.9571\n",
      "Epoch 5/30\n",
      "189/189 - 0s - loss: 0.2191 - accuracy: 0.9455 - val_loss: 0.1715 - val_accuracy: 0.9667\n",
      "Epoch 6/30\n",
      "189/189 - 0s - loss: 0.2177 - accuracy: 0.9466 - val_loss: 0.1762 - val_accuracy: 0.9429\n",
      "Epoch 7/30\n",
      "189/189 - 0s - loss: 0.2169 - accuracy: 0.9444 - val_loss: 0.1679 - val_accuracy: 0.9667\n",
      "Epoch 8/30\n",
      "189/189 - 0s - loss: 0.2146 - accuracy: 0.9481 - val_loss: 0.1747 - val_accuracy: 0.9571\n",
      "Epoch 9/30\n",
      "189/189 - 0s - loss: 0.2149 - accuracy: 0.9471 - val_loss: 0.1694 - val_accuracy: 0.9571\n",
      "Epoch 10/30\n",
      "189/189 - 0s - loss: 0.2139 - accuracy: 0.9471 - val_loss: 0.1685 - val_accuracy: 0.9571\n",
      "Epoch 11/30\n",
      "189/189 - 0s - loss: 0.2134 - accuracy: 0.9466 - val_loss: 0.1739 - val_accuracy: 0.9571\n",
      "Epoch 12/30\n",
      "189/189 - 0s - loss: 0.2116 - accuracy: 0.9497 - val_loss: 0.1644 - val_accuracy: 0.9667\n",
      "Epoch 13/30\n",
      "189/189 - 0s - loss: 0.2123 - accuracy: 0.9466 - val_loss: 0.1725 - val_accuracy: 0.9571\n",
      "Epoch 14/30\n",
      "189/189 - 0s - loss: 0.2116 - accuracy: 0.9476 - val_loss: 0.1697 - val_accuracy: 0.9571\n",
      "Epoch 15/30\n",
      "189/189 - 0s - loss: 0.2114 - accuracy: 0.9450 - val_loss: 0.1654 - val_accuracy: 0.9571\n",
      "Epoch 16/30\n",
      "189/189 - 0s - loss: 0.2116 - accuracy: 0.9439 - val_loss: 0.1643 - val_accuracy: 0.9571\n",
      "Epoch 17/30\n",
      "189/189 - 0s - loss: 0.2099 - accuracy: 0.9466 - val_loss: 0.1731 - val_accuracy: 0.9571\n",
      "Epoch 18/30\n",
      "189/189 - 0s - loss: 0.2107 - accuracy: 0.9466 - val_loss: 0.1632 - val_accuracy: 0.9571\n",
      "Epoch 19/30\n",
      "189/189 - 0s - loss: 0.2087 - accuracy: 0.9476 - val_loss: 0.1595 - val_accuracy: 0.9667\n",
      "Epoch 20/30\n",
      "189/189 - 0s - loss: 0.2103 - accuracy: 0.9466 - val_loss: 0.1635 - val_accuracy: 0.9571\n",
      "Epoch 21/30\n",
      "189/189 - 0s - loss: 0.2097 - accuracy: 0.9476 - val_loss: 0.1597 - val_accuracy: 0.9667\n",
      "Epoch 22/30\n",
      "189/189 - 0s - loss: 0.2080 - accuracy: 0.9471 - val_loss: 0.1607 - val_accuracy: 0.9667\n",
      "Epoch 23/30\n",
      "189/189 - 0s - loss: 0.2079 - accuracy: 0.9487 - val_loss: 0.1666 - val_accuracy: 0.9571\n",
      "Epoch 24/30\n",
      "189/189 - 0s - loss: 0.2093 - accuracy: 0.9444 - val_loss: 0.1644 - val_accuracy: 0.9571\n",
      "Epoch 25/30\n",
      "189/189 - 0s - loss: 0.2075 - accuracy: 0.9466 - val_loss: 0.1646 - val_accuracy: 0.9571\n",
      "Epoch 26/30\n",
      "189/189 - 0s - loss: 0.2080 - accuracy: 0.9466 - val_loss: 0.1572 - val_accuracy: 0.9667\n",
      "Epoch 27/30\n",
      "189/189 - 0s - loss: 0.2072 - accuracy: 0.9450 - val_loss: 0.1574 - val_accuracy: 0.9667\n",
      "Epoch 28/30\n",
      "189/189 - 0s - loss: 0.2085 - accuracy: 0.9455 - val_loss: 0.1583 - val_accuracy: 0.9571\n",
      "Epoch 29/30\n",
      "189/189 - 0s - loss: 0.2083 - accuracy: 0.9455 - val_loss: 0.1590 - val_accuracy: 0.9667\n",
      "Epoch 30/30\n",
      "189/189 - 0s - loss: 0.2072 - accuracy: 0.9466 - val_loss: 0.1552 - val_accuracy: 0.9667\n"
     ]
    },
    {
     "data": {
      "text/plain": [
       "<tensorflow.python.keras.callbacks.History at 0x7fdd752df1f0>"
      ]
     },
     "execution_count": 39,
     "metadata": {},
     "output_type": "execute_result"
    }
   ],
   "source": [
    "model.fit(x=scaled_train_sample,y=train_label,batch_size=10,validation_split=0.1,epochs=30,shuffle=True,verbose=2)"
   ]
  },
  {
   "cell_type": "code",
   "execution_count": 40,
   "metadata": {},
   "outputs": [],
   "source": [
    "test_labels=[]\n",
    "test_samples=[]"
   ]
  },
  {
   "cell_type": "code",
   "execution_count": 41,
   "metadata": {},
   "outputs": [],
   "source": [
    "for _ in range(50):\n",
    "    random_younger=randint(13,64)\n",
    "    test_samples.append(random_younger)\n",
    "    test_labels.append(1)\n",
    "    \n",
    "    random_older=randint(65,100)\n",
    "    test_samples.append(random_older)\n",
    "    test_labels.append(0)\n",
    "for _ in range(1000):\n",
    "    random_younger=randint(13,64)\n",
    "    test_samples.append(random_younger)\n",
    "    test_labels.append(0)\n",
    "    \n",
    "    random_older=randint(65,100)\n",
    "    test_samples.append(random_older)\n",
    "    test_labels.append(1)"
   ]
  },
  {
   "cell_type": "code",
   "execution_count": 47,
   "metadata": {},
   "outputs": [],
   "source": [
    "X_test=np.array(test_samples)\n",
    "y_test=np.array(test_labels)\n",
    "X_test,y_test=shuffle(X_test,y_test)\n",
    "scalar=MinMaxScaler(feature_range=(0,1))\n",
    "X_test=scaler.fit_transform(X_test.reshape(-1,1))"
   ]
  },
  {
   "cell_type": "code",
   "execution_count": 60,
   "metadata": {},
   "outputs": [],
   "source": [
    "predictions=model.predict(x=X_test,batch_size=10,verbose=0)\n",
    "prediction_argmax=np.argmax(predictions,axis=-1)"
   ]
  },
  {
   "cell_type": "code",
   "execution_count": 72,
   "metadata": {},
   "outputs": [
    {
     "name": "stdout",
     "output_type": "stream",
     "text": [
      "2100\n",
      "95.23809523809523%\n"
     ]
    }
   ],
   "source": [
    "diff=y_test-prediction_argmax\n",
    "diff=list(diff)\n",
    "print(len(diff))\n",
    "accuracy=diff.count(0)/len(diff)*100\n",
    "print(f'{accuracy}%')"
   ]
  },
  {
   "cell_type": "code",
   "execution_count": 74,
   "metadata": {},
   "outputs": [],
   "source": [
    "%matplotlib inline\n",
    "from sklearn.metrics import confusion_matrix\n",
    "import itertools\n",
    "import matplotlib.pyplot as plt"
   ]
  },
  {
   "cell_type": "code",
   "execution_count": 97,
   "metadata": {},
   "outputs": [],
   "source": [
    "cm=confusion_matrix(y_true=y_test,y_pred=prediction_argmax)"
   ]
  },
  {
   "cell_type": "code",
   "execution_count": 100,
   "metadata": {},
   "outputs": [
    {
     "data": {
      "image/png": "[encoded data removed]",
      "text/plain": [
       "<Figure size 432x288 with 2 Axes>"
      ]
     },
     "metadata": {
      "needs_background": "light"
     },
     "output_type": "display_data"
    }
   ],
   "source": [
    "import matplotlib.pyplot as plt\n",
    "from sklearn.metrics import ConfusionMatrixDisplay\n",
    "display_labels=['No side Effect','Has side Effect']\n",
    "disp = ConfusionMatrixDisplay(confusion_matrix=cm,\n",
    "                              display_labels=display_labels)\n",
    "\n",
    "\n",
    "# NOTE: Fill all variables here with default values of the plot_confusion_matrix\n",
    "disp = disp.plot()\n",
    "\n",
    "plt.show()"
   ]
  },
  {
   "cell_type": "code",
   "execution_count": 101,
   "metadata": {},
   "outputs": [
    {
     "name": "stdout",
     "output_type": "stream",
     "text": [
      "Model: \"sequential_1\"\n",
      "_________________________________________________________________\n",
      "Layer (type)                 Output Shape              Param #   \n",
      "=================================================================\n",
      "dense_3 (Dense)              (None, 16)                32        \n",
      "_________________________________________________________________\n",
      "dense_4 (Dense)              (None, 32)                544       \n",
      "_________________________________________________________________\n",
      "dense_5 (Dense)              (None, 2)                 66        \n",
      "=================================================================\n",
      "Total params: 642\n",
      "Trainable params: 642\n",
      "Non-trainable params: 0\n",
      "_________________________________________________________________\n"
     ]
    }
   ],
   "source": [
    "model.summary()"
   ]
  },
  {
   "cell_type": "code",
   "execution_count": 102,
   "metadata": {},
   "outputs": [],
   "source": [
    "import os.path\n",
    "if os.path.isfile('model1.h5') is False:\n",
    "    model.save('model1.h5')"
   ]
  },
  {
   "cell_type": "code",
   "execution_count": 103,
   "metadata": {},
   "outputs": [],
   "source": [
    "from tensorflow.keras.models import load_model"
   ]
  },
  {
   "cell_type": "code",
   "execution_count": 104,
   "metadata": {},
   "outputs": [
    {
     "name": "stdout",
     "output_type": "stream",
     "text": [
      "Model: \"sequential_1\"\n",
      "_________________________________________________________________\n",
      "Layer (type)                 Output Shape              Param #   \n",
      "=================================================================\n",
      "dense_3 (Dense)              (None, 16)                32        \n",
      "_________________________________________________________________\n",
      "dense_4 (Dense)              (None, 32)                544       \n",
      "_________________________________________________________________\n",
      "dense_5 (Dense)              (None, 2)                 66        \n",
      "=================================================================\n",
      "Total params: 642\n",
      "Trainable params: 642\n",
      "Non-trainable params: 0\n",
      "_________________________________________________________________\n"
     ]
    }
   ],
   "source": [
    "new_model=load_model('model1.h5')\n",
    "new_model.summary()"
   ]
  },
  {
   "cell_type": "code",
   "execution_count": 105,
   "metadata": {},
   "outputs": [
    {
     "data": {
      "text/plain": [
       "[array([[-0.43181172,  0.48419714,  0.4942046 ,  0.41629964, -0.4392074 ,\n",
       "         -0.2407788 , -0.02676235,  0.38676146, -0.15502846, -0.55784553,\n",
       "          0.4735404 ,  0.79654306,  0.63371575, -0.59111094,  0.07325336,\n",
       "         -0.37181652]], dtype=float32),\n",
       " array([ 0.        , -0.27121925, -0.2756066 , -0.23258427,  0.        ,\n",
       "         0.        ,  0.13225067, -0.21614526,  0.        ,  0.        ,\n",
       "        -0.26414952, -0.16718115, -0.35295767,  0.        ,  0.30683747,\n",
       "         0.        ], dtype=float32),\n",
       " array([[-5.36563993e-03,  3.51317734e-01, -2.40449369e-01,\n",
       "         -1.81333110e-01,  4.17993963e-02,  3.16675574e-01,\n",
       "         -1.36519462e-01, -1.42700970e-01,  3.10174257e-01,\n",
       "          3.51164043e-02,  6.26881123e-02, -3.92118990e-02,\n",
       "          2.83374697e-01,  6.11861050e-02,  2.67543525e-01,\n",
       "         -1.40853673e-01,  2.75293857e-01,  8.41907859e-02,\n",
       "          3.35372835e-01,  7.56747425e-02, -2.84562200e-01,\n",
       "         -1.94722399e-01,  1.12013102e-01, -3.27821553e-01,\n",
       "          1.02046043e-01,  2.87392467e-01,  7.41375685e-02,\n",
       "          2.64191359e-01, -2.80431718e-01,  3.33244592e-01,\n",
       "          1.77515298e-01,  2.34060913e-01],\n",
       "        [ 3.22434396e-01,  1.56716511e-01, -4.05531049e-01,\n",
       "         -2.75802433e-01, -4.64699239e-01, -4.78642769e-02,\n",
       "         -1.98889315e-01, -2.72261530e-01, -2.36760765e-01,\n",
       "         -3.68697882e-01, -7.18820617e-02, -6.44305766e-01,\n",
       "         -1.12740546e-01,  2.64644802e-01, -1.74987137e-01,\n",
       "          2.88423151e-01, -1.14867777e-01, -5.08275449e-01,\n",
       "         -5.51142156e-01,  4.02393281e-01, -3.59295040e-01,\n",
       "         -3.18475872e-01,  1.10347010e-01, -1.74936473e-01,\n",
       "         -2.39786595e-01, -2.92198569e-01, -2.26523682e-01,\n",
       "          2.82922804e-01, -1.79676935e-01, -6.14986181e-01,\n",
       "         -2.07072839e-01,  3.69801760e-01],\n",
       "        [-2.10198969e-01,  1.12417102e-01, -1.47114503e+00,\n",
       "         -1.77627289e+00, -1.55428839e+00, -1.59563608e-02,\n",
       "         -2.04483724e+00,  2.95645803e-01,  1.46628946e-01,\n",
       "         -8.69469270e-02,  3.95132393e-01, -1.44458055e+00,\n",
       "         -8.36068690e-02, -2.36431640e-02, -1.81872502e-01,\n",
       "          4.00751382e-01, -3.16563249e-02, -1.49082196e+00,\n",
       "         -1.80683768e+00,  3.61413360e-02, -1.98897028e+00,\n",
       "         -1.70961529e-01, -1.37192667e-01, -1.17642844e+00,\n",
       "          2.90668994e-01, -3.09491064e-02, -3.63136023e-01,\n",
       "         -3.42546016e-01, -2.40413740e-01, -1.30787969e+00,\n",
       "         -6.13321662e-02,  3.73286128e-01],\n",
       "        [-1.28752604e-01,  1.19088113e-01, -1.49137223e+00,\n",
       "         -1.65010285e+00, -1.39953673e+00, -6.45076856e-02,\n",
       "         -2.09789157e+00, -5.08312955e-02, -1.77265674e-01,\n",
       "          1.32626191e-01,  3.42274934e-01, -1.36439216e+00,\n",
       "          3.53097886e-01, -1.30822346e-01, -3.23547781e-01,\n",
       "          3.84888291e-01, -1.19534701e-01, -1.82312548e+00,\n",
       "         -2.00832701e+00, -2.49835864e-01, -1.97262371e+00,\n",
       "          3.20204586e-01,  2.81684101e-01, -1.56772017e+00,\n",
       "          3.06982636e-01, -1.23251870e-01, -6.40428960e-01,\n",
       "         -2.44700640e-01, -3.10589999e-01, -1.77887213e+00,\n",
       "          1.00062191e-01,  3.75676483e-01],\n",
       "        [ 7.63353705e-02, -1.56972736e-01, -1.15263537e-01,\n",
       "         -3.40733171e-01, -1.13246724e-01, -3.48678499e-01,\n",
       "          2.16940790e-01,  1.74763113e-01, -2.61559784e-01,\n",
       "         -2.40989357e-01, -1.85020193e-01,  2.42803782e-01,\n",
       "          3.38314474e-02,  7.13881552e-02,  2.41491884e-01,\n",
       "          2.59901673e-01,  1.66284442e-02,  1.85166448e-01,\n",
       "          2.04906851e-01, -3.52865636e-01,  3.49175423e-01,\n",
       "          6.41549230e-02,  3.10306281e-01, -5.89562654e-02,\n",
       "         -1.85773104e-01, -3.22742164e-02, -4.79752421e-02,\n",
       "         -2.55561948e-01,  1.82458609e-01,  1.77820593e-01,\n",
       "         -1.84075594e-01, -3.34781080e-01],\n",
       "        [-8.77259672e-02,  1.01843387e-01, -2.90026456e-01,\n",
       "          3.22233468e-01, -1.69139683e-01,  2.69962460e-01,\n",
       "          2.09495097e-01, -3.70083749e-02, -5.65207005e-03,\n",
       "          8.06999207e-02, -1.57028362e-01, -6.55374229e-02,\n",
       "         -3.28763276e-01,  1.74759537e-01, -1.80073082e-01,\n",
       "         -2.28306279e-01, -2.82788336e-01,  2.67255455e-01,\n",
       "         -3.11175138e-01,  1.70670599e-01,  3.11941713e-01,\n",
       "          1.04059815e-01,  4.27815914e-02, -1.36311665e-01,\n",
       "          3.20528477e-01,  2.88054734e-01, -2.10663185e-01,\n",
       "         -4.32473123e-02,  1.80111617e-01,  1.81411773e-01,\n",
       "          2.41613537e-01, -3.41922104e-01],\n",
       "        [ 3.86427760e-01, -1.73114061e-01,  2.52360106e-01,\n",
       "         -1.26898363e-01,  1.53438911e-01,  9.79945660e-02,\n",
       "         -5.94214387e-02,  1.63131386e-01, -1.40209749e-01,\n",
       "         -2.61519048e-02,  1.26497239e-01,  2.35735863e-01,\n",
       "          1.60914391e-01,  3.62249821e-01, -2.35264540e-01,\n",
       "         -2.76562199e-02,  5.90994768e-02,  1.89274460e-01,\n",
       "          1.21340051e-01,  6.77028596e-02,  1.86649397e-01,\n",
       "         -5.51628172e-02,  2.13659033e-01, -3.43322158e-01,\n",
       "          7.88462162e-02,  1.09701328e-01,  4.89816695e-01,\n",
       "          2.56316423e-01, -7.38937557e-02, -1.18696503e-01,\n",
       "         -1.88452780e-01,  2.77522147e-01],\n",
       "        [-1.39063552e-01, -2.21400261e-01, -2.01837969e+00,\n",
       "         -1.98871422e+00, -1.67902958e+00, -3.43918473e-01,\n",
       "         -1.92837310e+00,  3.19447964e-01, -2.48843431e-02,\n",
       "          1.07450895e-01, -1.55686572e-01, -1.55300999e+00,\n",
       "         -1.46755487e-01,  6.90174475e-02,  2.45372236e-01,\n",
       "          1.68795079e-01, -3.29570860e-01, -2.00951076e+00,\n",
       "         -2.16571999e+00, -6.90242350e-02, -1.54697001e+00,\n",
       "         -2.06142679e-01,  7.41340220e-02, -1.29969871e+00,\n",
       "          2.62072861e-01,  8.03764760e-02, -6.53500795e-01,\n",
       "         -1.19554788e-01,  8.17757323e-02, -1.47199225e+00,\n",
       "          2.37023890e-01, -7.95540109e-04],\n",
       "        [-1.64498389e-01, -7.55527914e-02,  2.72353679e-01,\n",
       "         -7.82085359e-02, -3.37704986e-01, -1.88738972e-01,\n",
       "          1.48098975e-01, -2.90629268e-03, -8.53306651e-02,\n",
       "          2.47716099e-01,  1.85912877e-01, -6.67762756e-02,\n",
       "         -3.08457941e-01,  1.96560532e-01, -2.03015551e-01,\n",
       "          2.68293768e-01,  2.57823080e-01,  1.87908262e-01,\n",
       "          3.01932663e-01,  2.11683303e-01, -1.39778510e-01,\n",
       "         -2.80027360e-01,  2.89575756e-02, -1.38935477e-01,\n",
       "          4.97693717e-02, -1.62140027e-01, -1.86849698e-01,\n",
       "          1.92358643e-01,  1.88784301e-02,  2.32772380e-01,\n",
       "          3.35217923e-01, -2.09060088e-01],\n",
       "        [-8.20729733e-02,  1.41317546e-01, -5.97140789e-02,\n",
       "          1.90360695e-01, -3.04192930e-01, -2.08682537e-01,\n",
       "          1.42546386e-01,  2.17234880e-01,  2.82230228e-01,\n",
       "          4.24677432e-02,  3.51218194e-01,  1.41148031e-01,\n",
       "         -7.47337043e-02,  2.73407012e-01, -5.16928434e-02,\n",
       "          2.25063235e-01, -8.88524652e-02, -1.20794550e-01,\n",
       "         -2.33513087e-01,  3.45859528e-02,  3.43023866e-01,\n",
       "         -1.78544000e-01, -3.28915596e-01,  1.77935332e-01,\n",
       "          3.20019811e-01,  2.53307968e-01,  3.44440073e-01,\n",
       "         -4.61634398e-02,  8.51071179e-02,  7.38739967e-02,\n",
       "          2.96118349e-01,  3.24062496e-01],\n",
       "        [-3.13495666e-01, -8.62225890e-02, -1.64109278e+00,\n",
       "         -1.66499650e+00, -1.82247102e+00,  5.20003699e-02,\n",
       "         -1.45799863e+00, -7.29789212e-02,  1.47428244e-01,\n",
       "          6.46899268e-02,  3.96629930e-01, -1.12321448e+00,\n",
       "          8.44348967e-02, -3.20483178e-01, -2.45675832e-01,\n",
       "          2.38257926e-02,  6.38344288e-02, -1.81783140e+00,\n",
       "         -1.82207084e+00,  3.00076693e-01, -2.06382942e+00,\n",
       "          1.91272348e-01,  2.52898812e-01, -1.17300665e+00,\n",
       "          2.16412082e-01,  3.80668581e-01, -8.73616278e-01,\n",
       "          1.57733023e-01, -6.96392134e-02, -1.53903925e+00,\n",
       "         -1.31905645e-01,  1.65933728e-01],\n",
       "        [ 2.07638144e-01, -1.59498081e-01, -2.95999527e-01,\n",
       "         -1.30620494e-01,  7.41953701e-02,  4.60765958e-01,\n",
       "          1.19762525e-01,  4.77408826e-01, -2.53763139e-01,\n",
       "          2.81909734e-01,  1.81428790e-01,  3.76927793e-01,\n",
       "         -1.81750610e-01,  3.10376644e-01, -1.09400533e-01,\n",
       "          2.50713408e-01, -2.72256911e-01, -3.31738621e-01,\n",
       "          5.47630727e-01,  2.58722633e-01,  6.00575469e-02,\n",
       "          4.26358394e-02,  2.93945283e-01,  3.72552186e-01,\n",
       "         -5.87898605e-02,  4.43880618e-01,  2.83022691e-02,\n",
       "          3.65132421e-01,  4.62120056e-01, -1.85362145e-01,\n",
       "         -4.91105467e-02,  1.97646439e-01],\n",
       "        [ 1.67537242e-01, -3.48123103e-01, -1.51294327e+00,\n",
       "         -1.66955817e+00, -1.27500689e+00, -7.38025308e-02,\n",
       "         -1.51272154e+00,  5.84114417e-02, -3.07395250e-01,\n",
       "         -3.33477587e-01,  1.45684898e-01, -1.04778862e+00,\n",
       "         -3.08709741e-01,  2.40916014e-01,  2.26969823e-01,\n",
       "          3.83635312e-01, -1.19393677e-01, -1.50731885e+00,\n",
       "         -1.55458069e+00, -1.78459093e-01, -1.67776453e+00,\n",
       "         -2.21371680e-01, -3.23217772e-02, -1.00096047e+00,\n",
       "         -3.32938820e-01,  1.20402597e-01, -3.05482447e-01,\n",
       "         -3.99409346e-02,  3.08728486e-01, -1.49305797e+00,\n",
       "         -1.73507571e-01,  5.49850278e-02],\n",
       "        [-1.24622747e-01, -1.48932964e-01, -1.32509947e-01,\n",
       "          1.76368207e-01,  8.81797075e-03, -1.73728541e-01,\n",
       "          2.04064399e-01, -2.74846673e-01, -1.61123857e-01,\n",
       "          1.53484493e-01,  7.17311502e-02, -2.37364054e-01,\n",
       "         -2.86921412e-01,  1.24959081e-01,  8.09251368e-02,\n",
       "         -3.49880129e-01,  2.94079632e-01,  2.30623692e-01,\n",
       "          7.47641325e-02, -1.98024020e-01,  1.54967636e-01,\n",
       "         -6.27056658e-02, -2.24871472e-01,  1.44757241e-01,\n",
       "         -4.72097695e-02,  1.64722115e-01,  2.56400675e-01,\n",
       "          4.86589670e-02,  1.34177953e-01,  3.26021701e-01,\n",
       "          1.64930820e-02, -2.50780225e-01],\n",
       "        [ 4.19635057e-01, -1.00273397e-02,  2.43112817e-01,\n",
       "          3.37836087e-01,  3.88222903e-01,  2.36447811e-01,\n",
       "          1.38367385e-01,  7.72549957e-02, -2.96079069e-01,\n",
       "         -1.93705499e-01,  2.82213837e-01, -8.43974501e-02,\n",
       "         -1.65505111e-01, -2.37395596e-02, -2.41122454e-01,\n",
       "         -4.68966104e-02,  2.83384603e-02,  4.95014459e-01,\n",
       "          8.77599195e-02,  3.28442842e-01,  3.23770285e-01,\n",
       "         -1.61114633e-02,  1.48028433e-01,  9.48430672e-02,\n",
       "         -2.97226042e-01,  2.69205719e-01,  6.65676177e-01,\n",
       "          1.88891739e-01,  2.64507264e-01,  1.94939867e-01,\n",
       "          2.38097578e-01,  1.53412566e-01],\n",
       "        [ 1.80339426e-01, -3.30377579e-01, -3.14077646e-01,\n",
       "          8.54313374e-02, -4.19986546e-02, -1.70721203e-01,\n",
       "         -2.03948513e-01, -1.34638444e-01, -1.31846294e-01,\n",
       "         -3.00082594e-01, -2.51428545e-01,  9.15262699e-02,\n",
       "         -4.35409844e-02,  2.92612165e-01,  2.24548548e-01,\n",
       "          2.26573676e-01, -1.16782263e-01,  4.50114012e-02,\n",
       "         -3.38424444e-01, -4.80941832e-02,  1.46513283e-02,\n",
       "         -1.46516442e-01,  1.93376631e-01,  2.53126025e-03,\n",
       "          3.09693813e-03, -8.42329860e-03, -3.96904349e-02,\n",
       "         -5.79839945e-03, -8.42389762e-02,  1.43630654e-01,\n",
       "          2.77428597e-01,  6.58246875e-02]], dtype=float32),\n",
       " array([ 0.01528288, -0.01088293,  0.257962  ,  0.2348696 ,  0.09325732,\n",
       "         0.02831115,  0.2147072 ,  0.13209414,  0.        , -0.03342951,\n",
       "         0.2717515 ,  0.1027698 ,  0.        ,  0.03515138, -0.00522713,\n",
       "        -0.04876067, -0.01982966,  0.21762605,  0.09586116,  0.00831786,\n",
       "         0.16999629, -0.00892064,  0.12397087,  0.08425694, -0.05169602,\n",
       "         0.17065318,  0.41701236,  0.01523907,  0.10611445,  0.27185795,\n",
       "        -0.06564005, -0.14600554], dtype=float32),\n",
       " array([[-0.32626602,  0.05501611],\n",
       "        [-0.40175205, -0.04275738],\n",
       "        [ 0.83415264, -1.0187807 ],\n",
       "        [ 0.9865117 , -1.1013585 ],\n",
       "        [ 0.69573224, -0.9571123 ],\n",
       "        [ 0.10334896,  0.3812103 ],\n",
       "        [ 1.0188447 , -1.2152625 ],\n",
       "        [-0.3689889 ,  0.15084332],\n",
       "        [ 0.27615747,  0.2016845 ],\n",
       "        [-0.30603847, -0.32040775],\n",
       "        [-0.26325107,  0.4109676 ],\n",
       "        [ 0.9256183 , -0.7893845 ],\n",
       "        [ 0.19715157, -0.25332665],\n",
       "        [ 0.04011972,  0.38511086],\n",
       "        [-0.18695176,  0.0061486 ],\n",
       "        [-0.12266982, -0.07380354],\n",
       "        [-0.08384261,  0.20738745],\n",
       "        [ 1.1292665 , -1.00271   ],\n",
       "        [ 1.6411963 , -0.9094012 ],\n",
       "        [ 0.07126082,  0.34573576],\n",
       "        [ 1.3312852 , -1.2652804 ],\n",
       "        [ 0.28698418,  0.3005325 ],\n",
       "        [-0.3447761 ,  0.35570654],\n",
       "        [ 0.9575131 , -0.7628445 ],\n",
       "        [-0.35159913, -0.24287945],\n",
       "        [-0.2680801 ,  0.30932024],\n",
       "        [-0.37611935,  0.754149  ],\n",
       "        [ 0.12011364,  0.46802533],\n",
       "        [-0.44628865,  0.2313355 ],\n",
       "        [ 1.2995902 , -1.1550227 ],\n",
       "        [-0.18574436,  0.24327652],\n",
       "        [-0.09061541, -0.22247082]], dtype=float32),\n",
       " array([-0.34386846,  0.34386826], dtype=float32)]"
      ]
     },
     "execution_count": 105,
     "metadata": {},
     "output_type": "execute_result"
    }
   ],
   "source": [
    "new_model.get_weights()"
   ]
  },
  {
   "cell_type": "code",
   "execution_count": null,
   "metadata": {},
   "outputs": [],
   "source": []
  }
 ],
 "metadata": {
  "kernelspec": {
   "display_name": "Python 3",
   "language": "python",
   "name": "python3"
  },
  "language_info": {
   "codemirror_mode": {
    "name": "ipython",
    "version": 3
   },
   "file_extension": ".py",
   "mimetype": "text/x-python",
   "name": "python",
   "nbconvert_exporter": "python",
   "pygments_lexer": "ipython3",
   "version": "3.8.5"
  }
 },
 "nbformat": 4,
 "nbformat_minor": 4
}
